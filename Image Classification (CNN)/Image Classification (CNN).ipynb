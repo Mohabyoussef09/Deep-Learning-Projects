{
 "cells": [
  {
   "cell_type": "code",
   "execution_count": 1,
   "metadata": {},
   "outputs": [
    {
     "name": "stderr",
     "output_type": "stream",
     "text": [
      "Using TensorFlow backend.\n"
     ]
    }
   ],
   "source": [
    "# Convolutional Neural Network\n",
    "# Part 1 - Building the CNN\n",
    "\n",
    "# Importing the Keras libraries and packages\n",
    "from keras.models import Sequential\n",
    "from keras.layers import Conv2D\n",
    "from keras.layers import MaxPooling2D\n",
    "from keras.layers import Flatten\n",
    "from keras.layers import Dense\n",
    "\n",
    "# Initialising the CNN\n",
    "classifier = Sequential()\n",
    "\n",
    "# Step 1 - Convolution\n",
    "classifier.add(Conv2D(32, (3, 3), input_shape = (64, 64, 3), activation = 'relu'))\n",
    "\n",
    "# Step 2 - Pooling\n",
    "classifier.add(MaxPooling2D(pool_size = (2, 2)))\n",
    "\n",
    "# Adding a second convolutional layer\n",
    "classifier.add(Conv2D(32, (3, 3), activation = 'relu'))\n",
    "classifier.add(MaxPooling2D(pool_size = (2, 2)))\n",
    "\n",
    "# Step 3 - Flattening\n",
    "classifier.add(Flatten())\n",
    "\n",
    "# Step 4 - Full connection\n",
    "classifier.add(Dense(units = 128, activation = 'relu'))\n",
    "classifier.add(Dense(units = 1, activation = 'sigmoid'))\n",
    "\n",
    "# Compiling the CNN\n",
    "classifier.compile(optimizer = 'adam', loss = 'binary_crossentropy', metrics = ['accuracy'])\n",
    "\n"
   ]
  },
  {
   "cell_type": "code",
   "execution_count": 2,
   "metadata": {},
   "outputs": [
    {
     "name": "stdout",
     "output_type": "stream",
     "text": [
      "Found 8000 images belonging to 2 classes.\n",
      "Found 2000 images belonging to 2 classes.\n"
     ]
    }
   ],
   "source": [
    "# Part 2 - Fitting the CNN to the images\n",
    "\n",
    "from keras.preprocessing.image import ImageDataGenerator\n",
    "\n",
    "train_datagen = ImageDataGenerator(rescale = 1./255,\n",
    "                                   shear_range = 0.2,\n",
    "                                   zoom_range = 0.2,\n",
    "                                   horizontal_flip = True)\n",
    "\n",
    "test_datagen = ImageDataGenerator(rescale = 1./255)\n",
    "\n",
    "training_set = train_datagen.flow_from_directory('dataset/training_set',\n",
    "                                                 target_size = (64, 64),\n",
    "                                                 batch_size = 32,\n",
    "                                                 class_mode = 'binary')\n",
    "\n",
    "test_set = test_datagen.flow_from_directory('dataset/test_set',\n",
    "                                            target_size = (64, 64),\n",
    "                                            batch_size = 32,\n",
    "                                            class_mode = 'binary')\n",
    "\n"
   ]
  },
  {
   "cell_type": "code",
   "execution_count": 9,
   "metadata": {},
   "outputs": [
    {
     "name": "stdout",
     "output_type": "stream",
     "text": [
      "Epoch 1/25\n",
      "8000/8000 [==============================] - 4412s 552ms/step - loss: 0.3306 - acc: 0.8460 - val_loss: 0.6839 - val_acc: 0.8070\n",
      "Epoch 2/25\n",
      "8000/8000 [==============================] - 3871s 484ms/step - loss: 0.0811 - acc: 0.9701 - val_loss: 1.0613 - val_acc: 0.7926\n",
      "Epoch 3/25\n",
      "8000/8000 [==============================] - 3867s 483ms/step - loss: 0.0419 - acc: 0.9852 - val_loss: 1.1850 - val_acc: 0.7879\n",
      "Epoch 4/25\n",
      "8000/8000 [==============================] - 3766s 471ms/step - loss: 0.0314 - acc: 0.9892 - val_loss: 1.2086 - val_acc: 0.7884\n",
      "Epoch 5/25\n",
      "8000/8000 [==============================] - 3731s 466ms/step - loss: 0.0252 - acc: 0.9915 - val_loss: 1.4334 - val_acc: 0.7855\n",
      "Epoch 6/25\n",
      "8000/8000 [==============================] - 3693s 462ms/step - loss: 0.0213 - acc: 0.9930 - val_loss: 1.4245 - val_acc: 0.8027\n",
      "Epoch 7/25\n",
      "8000/8000 [==============================] - 3893s 487ms/step - loss: 0.0182 - acc: 0.9940 - val_loss: 1.6974 - val_acc: 0.7811\n",
      "Epoch 8/25\n",
      "8000/8000 [==============================] - 4228s 529ms/step - loss: 0.0178 - acc: 0.9943 - val_loss: 1.5460 - val_acc: 0.7999\n",
      "Epoch 9/25\n",
      "8000/8000 [==============================] - 3781s 473ms/step - loss: 0.0159 - acc: 0.9951 - val_loss: 1.5423 - val_acc: 0.7966\n",
      "Epoch 10/25\n",
      "8000/8000 [==============================] - 3818s 477ms/step - loss: 0.0147 - acc: 0.9954 - val_loss: 1.7129 - val_acc: 0.7813\n",
      "Epoch 11/25\n",
      "8000/8000 [==============================] - 3728s 466ms/step - loss: 0.0129 - acc: 0.9959 - val_loss: 1.6018 - val_acc: 0.7881\n",
      "Epoch 12/25\n",
      "8000/8000 [==============================] - 3686s 461ms/step - loss: 0.0121 - acc: 0.9963 - val_loss: 1.7172 - val_acc: 0.7880\n",
      "Epoch 13/25\n",
      "8000/8000 [==============================] - 3659s 457ms/step - loss: 0.0118 - acc: 0.9964 - val_loss: 1.6435 - val_acc: 0.7879\n",
      "Epoch 14/25\n",
      "8000/8000 [==============================] - 3722s 465ms/step - loss: 0.0102 - acc: 0.9968 - val_loss: 1.8243 - val_acc: 0.7808\n",
      "Epoch 15/25\n",
      "8000/8000 [==============================] - 3881s 485ms/step - loss: 0.0096 - acc: 0.9971 - val_loss: 1.7406 - val_acc: 0.7957\n",
      "Epoch 16/25\n",
      "8000/8000 [==============================] - 3908s 489ms/step - loss: 0.0101 - acc: 0.9970 - val_loss: 1.7167 - val_acc: 0.7929\n",
      "Epoch 17/25\n",
      "8000/8000 [==============================] - 3974s 497ms/step - loss: 0.0086 - acc: 0.9973 - val_loss: 1.7772 - val_acc: 0.7839\n",
      "Epoch 18/25\n",
      "8000/8000 [==============================] - 4207s 526ms/step - loss: 0.0090 - acc: 0.9973 - val_loss: 1.8637 - val_acc: 0.7875\n",
      "Epoch 19/25\n",
      "8000/8000 [==============================] - 9118s 1s/step - loss: 0.0086 - acc: 0.9975 - val_loss: 1.7880 - val_acc: 0.8001\n",
      "Epoch 20/25\n",
      "8000/8000 [==============================] - 4633s 579ms/step - loss: 0.0083 - acc: 0.9975 - val_loss: 1.8097 - val_acc: 0.8071\n",
      "Epoch 21/25\n",
      "8000/8000 [==============================] - 5792s 724ms/step - loss: 0.0090 - acc: 0.9975 - val_loss: 1.7078 - val_acc: 0.8025\n",
      "Epoch 22/25\n",
      "8000/8000 [==============================] - 12550s 2s/step - loss: 0.0078 - acc: 0.9977 - val_loss: 1.8146 - val_acc: 0.8129\n",
      "Epoch 23/25\n",
      "8000/8000 [==============================] - 5124s 641ms/step - loss: 0.0078 - acc: 0.9977 - val_loss: 1.9004 - val_acc: 0.7973\n",
      "Epoch 24/25\n",
      "8000/8000 [==============================] - 5190s 649ms/step - loss: 0.0073 - acc: 0.9979 - val_loss: 1.9124 - val_acc: 0.7967\n",
      "Epoch 25/25\n",
      "8000/8000 [==============================] - 4890s 611ms/step - loss: 0.0074 - acc: 0.9979 - val_loss: 1.8361 - val_acc: 0.7940\n"
     ]
    },
    {
     "data": {
      "text/plain": [
       "<keras.callbacks.History at 0x24aba1d8c88>"
      ]
     },
     "execution_count": 9,
     "metadata": {},
     "output_type": "execute_result"
    }
   ],
   "source": [
    "classifier.fit_generator(training_set,\n",
    "                         steps_per_epoch = 8000,\n",
    "                         epochs = 25,\n",
    "                         validation_data = test_set,\n",
    "                         validation_steps = 2000)"
   ]
  },
  {
   "cell_type": "code",
   "execution_count": null,
   "metadata": {},
   "outputs": [],
   "source": []
  },
  {
   "cell_type": "code",
   "execution_count": null,
   "metadata": {},
   "outputs": [],
   "source": []
  }
 ],
 "metadata": {
  "kernelspec": {
   "display_name": "Python 3",
   "language": "python",
   "name": "python3"
  },
  "language_info": {
   "codemirror_mode": {
    "name": "ipython",
    "version": 3
   },
   "file_extension": ".py",
   "mimetype": "text/x-python",
   "name": "python",
   "nbconvert_exporter": "python",
   "pygments_lexer": "ipython3",
   "version": "3.6.4"
  }
 },
 "nbformat": 4,
 "nbformat_minor": 2
}
